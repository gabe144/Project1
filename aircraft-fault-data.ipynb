{
 "cells": [
  {
   "cell_type": "markdown",
   "metadata": {},
   "source": [
    "# Using Data Science to prevent delays on your flights"
   ]
  },
  {
   "cell_type": "raw",
   "metadata": {},
   "source": [
    "# Step 1: Import All Relevant Libraries"
   ]
  },
  {
   "cell_type": "code",
   "execution_count": 81,
   "metadata": {
    "scrolled": false
   },
   "outputs": [],
   "source": [
    "import pandas as pd\n",
    "import numpy as np\n",
    "import matplotlib.pyplot as plt\n",
    "from matplotlib.ticker import FuncFormatter\n",
    "import seaborn as sns\n",
    "%matplotlib inline\n"
   ]
  },
  {
   "cell_type": "raw",
   "metadata": {},
   "source": [
    "#Step 2: Importing and understading the Dataset"
   ]
  },
  {
   "cell_type": "code",
   "execution_count": 91,
   "metadata": {},
   "outputs": [
    {
     "data": {
      "text/html": [
       "<div>\n",
       "<style scoped>\n",
       "    .dataframe tbody tr th:only-of-type {\n",
       "        vertical-align: middle;\n",
       "    }\n",
       "\n",
       "    .dataframe tbody tr th {\n",
       "        vertical-align: top;\n",
       "    }\n",
       "\n",
       "    .dataframe thead th {\n",
       "        text-align: right;\n",
       "    }\n",
       "</style>\n",
       "<table border=\"1\" class=\"dataframe\">\n",
       "  <thead>\n",
       "    <tr style=\"text-align: right;\">\n",
       "      <th></th>\n",
       "      <th>aircraft_tail</th>\n",
       "      <th>check_c_in_lst_yr</th>\n",
       "      <th>aircraft_years</th>\n",
       "      <th>aircraft_msn</th>\n",
       "      <th>fault_source</th>\n",
       "      <th>deferral_reference</th>\n",
       "      <th>deferral_class</th>\n",
       "      <th>logbook_type</th>\n",
       "      <th>event_type</th>\n",
       "      <th>event_status</th>\n",
       "      <th>...</th>\n",
       "      <th>moc</th>\n",
       "      <th>maintenance_airline_code</th>\n",
       "      <th>maintenance_airline_code_group</th>\n",
       "      <th>fleet</th>\n",
       "      <th>fleet_type</th>\n",
       "      <th>fleet_holding</th>\n",
       "      <th>condicion_mapi</th>\n",
       "      <th>type</th>\n",
       "      <th>type_latam</th>\n",
       "      <th>fault_count</th>\n",
       "    </tr>\n",
       "  </thead>\n",
       "  <tbody>\n",
       "    <tr>\n",
       "      <th>0</th>\n",
       "      <td>PR-MBW</td>\n",
       "      <td>no</td>\n",
       "      <td>11</td>\n",
       "      <td>3710</td>\n",
       "      <td>CABIN</td>\n",
       "      <td>35-30-01A</td>\n",
       "      <td>MEL C</td>\n",
       "      <td>MAINT</td>\n",
       "      <td>CF</td>\n",
       "      <td>CFCERT</td>\n",
       "      <td>...</td>\n",
       "      <td>NaN</td>\n",
       "      <td>A319JJ</td>\n",
       "      <td>A320JJ</td>\n",
       "      <td>A320FAM</td>\n",
       "      <td>NB</td>\n",
       "      <td>BR</td>\n",
       "      <td>LIMPIO</td>\n",
       "      <td>NO TECH</td>\n",
       "      <td>NO TECH</td>\n",
       "      <td>-</td>\n",
       "    </tr>\n",
       "    <tr>\n",
       "      <th>1</th>\n",
       "      <td>PT-MZZ</td>\n",
       "      <td>no</td>\n",
       "      <td>19</td>\n",
       "      <td>1593</td>\n",
       "      <td>PILOT</td>\n",
       "      <td>46-21-01A</td>\n",
       "      <td>MEL C</td>\n",
       "      <td>CABIN</td>\n",
       "      <td>CF</td>\n",
       "      <td>CFCERT</td>\n",
       "      <td>...</td>\n",
       "      <td>NaN</td>\n",
       "      <td>A320JJ</td>\n",
       "      <td>A320JJ</td>\n",
       "      <td>A320FAM</td>\n",
       "      <td>NB</td>\n",
       "      <td>BR</td>\n",
       "      <td>LIMPIO</td>\n",
       "      <td>TECH</td>\n",
       "      <td>TECH</td>\n",
       "      <td>FAULT</td>\n",
       "    </tr>\n",
       "    <tr>\n",
       "      <th>2</th>\n",
       "      <td>PT-MXL</td>\n",
       "      <td>no</td>\n",
       "      <td>6</td>\n",
       "      <td>5947</td>\n",
       "      <td>PILOT</td>\n",
       "      <td>21-00-04A</td>\n",
       "      <td>MEL C</td>\n",
       "      <td>MAINT</td>\n",
       "      <td>CF</td>\n",
       "      <td>CFCERT</td>\n",
       "      <td>...</td>\n",
       "      <td>NaN</td>\n",
       "      <td>A321JJ</td>\n",
       "      <td>A320JJ</td>\n",
       "      <td>A320FAM</td>\n",
       "      <td>NB</td>\n",
       "      <td>BR</td>\n",
       "      <td>LIMPIO</td>\n",
       "      <td>TECH</td>\n",
       "      <td>TECH</td>\n",
       "      <td>FAULT</td>\n",
       "    </tr>\n",
       "    <tr>\n",
       "      <th>3</th>\n",
       "      <td>PR-MBO</td>\n",
       "      <td>yes</td>\n",
       "      <td>13</td>\n",
       "      <td>3156</td>\n",
       "      <td>PILOT</td>\n",
       "      <td>33-40-01B</td>\n",
       "      <td>MEL C</td>\n",
       "      <td>NaN</td>\n",
       "      <td>CF</td>\n",
       "      <td>CFCERT</td>\n",
       "      <td>...</td>\n",
       "      <td>NaN</td>\n",
       "      <td>A320JJ</td>\n",
       "      <td>A320JJ</td>\n",
       "      <td>A320FAM</td>\n",
       "      <td>NB</td>\n",
       "      <td>BR</td>\n",
       "      <td>LIMPIO</td>\n",
       "      <td>TECH</td>\n",
       "      <td>TECH</td>\n",
       "      <td>REPEATED</td>\n",
       "    </tr>\n",
       "    <tr>\n",
       "      <th>4</th>\n",
       "      <td>PR-MBZ</td>\n",
       "      <td>no</td>\n",
       "      <td>18</td>\n",
       "      <td>1827</td>\n",
       "      <td>PILOT</td>\n",
       "      <td>36-12-02B</td>\n",
       "      <td>MEL C</td>\n",
       "      <td>MAINT</td>\n",
       "      <td>CF</td>\n",
       "      <td>CFCERT</td>\n",
       "      <td>...</td>\n",
       "      <td>NaN</td>\n",
       "      <td>A320JJ</td>\n",
       "      <td>A320JJ</td>\n",
       "      <td>A320FAM</td>\n",
       "      <td>NB</td>\n",
       "      <td>BR</td>\n",
       "      <td>LIMPIO</td>\n",
       "      <td>TECH</td>\n",
       "      <td>TECH</td>\n",
       "      <td>REPEATED</td>\n",
       "    </tr>\n",
       "  </tbody>\n",
       "</table>\n",
       "<p>5 rows × 32 columns</p>\n",
       "</div>"
      ],
      "text/plain": [
       "  aircraft_tail check_c_in_lst_yr  aircraft_years  aircraft_msn fault_source  \\\n",
       "0        PR-MBW                no              11          3710        CABIN   \n",
       "1        PT-MZZ                no              19          1593        PILOT   \n",
       "2        PT-MXL                no               6          5947        PILOT   \n",
       "3        PR-MBO               yes              13          3156        PILOT   \n",
       "4        PR-MBZ                no              18          1827        PILOT   \n",
       "\n",
       "  deferral_reference deferral_class logbook_type event_type event_status  ...  \\\n",
       "0          35-30-01A          MEL C        MAINT         CF       CFCERT  ...   \n",
       "1          46-21-01A          MEL C        CABIN         CF       CFCERT  ...   \n",
       "2          21-00-04A          MEL C        MAINT         CF       CFCERT  ...   \n",
       "3          33-40-01B          MEL C          NaN         CF       CFCERT  ...   \n",
       "4          36-12-02B          MEL C        MAINT         CF       CFCERT  ...   \n",
       "\n",
       "  moc maintenance_airline_code maintenance_airline_code_group    fleet  \\\n",
       "0 NaN                   A319JJ                         A320JJ  A320FAM   \n",
       "1 NaN                   A320JJ                         A320JJ  A320FAM   \n",
       "2 NaN                   A321JJ                         A320JJ  A320FAM   \n",
       "3 NaN                   A320JJ                         A320JJ  A320FAM   \n",
       "4 NaN                   A320JJ                         A320JJ  A320FAM   \n",
       "\n",
       "  fleet_type fleet_holding condicion_mapi     type  type_latam  fault_count  \n",
       "0         NB            BR         LIMPIO  NO TECH     NO TECH            -  \n",
       "1         NB            BR         LIMPIO     TECH        TECH        FAULT  \n",
       "2         NB            BR         LIMPIO     TECH        TECH        FAULT  \n",
       "3         NB            BR         LIMPIO     TECH        TECH     REPEATED  \n",
       "4         NB            BR         LIMPIO     TECH        TECH     REPEATED  \n",
       "\n",
       "[5 rows x 32 columns]"
      ]
     },
     "execution_count": 91,
     "metadata": {},
     "output_type": "execute_result"
    }
   ],
   "source": [
    "df = pd.read_csv(r'C:\\Users\\Larissa\\Downloads\\data_test.csv',encoding='latin-1')\n",
    "\n",
    "df.head()"
   ]
  },
  {
   "cell_type": "code",
   "execution_count": 92,
   "metadata": {},
   "outputs": [
    {
     "name": "stdout",
     "output_type": "stream",
     "text": [
      "<class 'pandas.core.frame.DataFrame'>\n",
      "RangeIndex: 15937 entries, 0 to 15936\n",
      "Data columns (total 32 columns):\n",
      " #   Column                          Non-Null Count  Dtype  \n",
      "---  ------                          --------------  -----  \n",
      " 0   aircraft_tail                   15937 non-null  object \n",
      " 1   check_c_in_lst_yr               15937 non-null  object \n",
      " 2   aircraft_years                  15937 non-null  int64  \n",
      " 3   aircraft_msn                    15937 non-null  int64  \n",
      " 4   fault_source                    15937 non-null  object \n",
      " 5   deferral_reference              15933 non-null  object \n",
      " 6   deferral_class                  15937 non-null  object \n",
      " 7   logbook_type                    13426 non-null  object \n",
      " 8   event_type                      15937 non-null  object \n",
      " 9   event_status                    15937 non-null  object \n",
      " 10  fault_name                      15937 non-null  object \n",
      " 11  description                     15351 non-null  object \n",
      " 12  barcode                         15937 non-null  object \n",
      " 13  task_status                     15937 non-null  object \n",
      " 14  found_during_flight             14293 non-null  object \n",
      " 15  flight_arrival_airport          14293 non-null  object \n",
      " 16  aircraft_assembly               15937 non-null  object \n",
      " 17  ata_2d                          15937 non-null  int64  \n",
      " 18  ata_4d                          15937 non-null  int64  \n",
      " 19  ata_6d                          15937 non-null  int64  \n",
      " 20  config_slot_name                15937 non-null  object \n",
      " 21  config_slot_details             15937 non-null  object \n",
      " 22  moc                             1 non-null      float64\n",
      " 23  maintenance_airline_code        15937 non-null  object \n",
      " 24  maintenance_airline_code_group  15937 non-null  object \n",
      " 25  fleet                           15937 non-null  object \n",
      " 26  fleet_type                      15937 non-null  object \n",
      " 27  fleet_holding                   15937 non-null  object \n",
      " 28  condicion_mapi                  15937 non-null  object \n",
      " 29  type                            15937 non-null  object \n",
      " 30  type_latam                      15937 non-null  object \n",
      " 31  fault_count                     15937 non-null  object \n",
      "dtypes: float64(1), int64(5), object(26)\n",
      "memory usage: 3.9+ MB\n"
     ]
    }
   ],
   "source": [
    "df.info()"
   ]
  },
  {
   "cell_type": "markdown",
   "metadata": {},
   "source": [
    "# #Step 3: Data Cleaning"
   ]
  },
  {
   "cell_type": "code",
   "execution_count": 93,
   "metadata": {},
   "outputs": [
    {
     "data": {
      "text/html": [
       "<div>\n",
       "<style scoped>\n",
       "    .dataframe tbody tr th:only-of-type {\n",
       "        vertical-align: middle;\n",
       "    }\n",
       "\n",
       "    .dataframe tbody tr th {\n",
       "        vertical-align: top;\n",
       "    }\n",
       "\n",
       "    .dataframe thead th {\n",
       "        text-align: right;\n",
       "    }\n",
       "</style>\n",
       "<table border=\"1\" class=\"dataframe\">\n",
       "  <thead>\n",
       "    <tr style=\"text-align: right;\">\n",
       "      <th></th>\n",
       "      <th>aircraft_tail</th>\n",
       "      <th>check_c_in_lst_yr</th>\n",
       "      <th>aircraft_years</th>\n",
       "      <th>fault_source</th>\n",
       "      <th>deferral_class</th>\n",
       "      <th>logbook_type</th>\n",
       "      <th>event_status</th>\n",
       "      <th>fault_name</th>\n",
       "      <th>description</th>\n",
       "      <th>barcode</th>\n",
       "      <th>task_status</th>\n",
       "      <th>flight_arrival_airport</th>\n",
       "      <th>ata_2d</th>\n",
       "      <th>config_slot_name</th>\n",
       "      <th>fleet</th>\n",
       "      <th>condicion_mapi</th>\n",
       "      <th>fault_count</th>\n",
       "    </tr>\n",
       "  </thead>\n",
       "  <tbody>\n",
       "    <tr>\n",
       "      <th>0</th>\n",
       "      <td>PR-MBW</td>\n",
       "      <td>no</td>\n",
       "      <td>11</td>\n",
       "      <td>CABIN</td>\n",
       "      <td>MEL C</td>\n",
       "      <td>MAINT</td>\n",
       "      <td>CFCERT</td>\n",
       "      <td>501173-B-047 REF ITEM RTC BA 652698 - UTILIZAD...</td>\n",
       "      <td>501173-B-047 REF ITEM RTC BA 652698 - UTILIZAD...</td>\n",
       "      <td>T00F8Y6K</td>\n",
       "      <td>COMPLETE</td>\n",
       "      <td>CNF</td>\n",
       "      <td>35</td>\n",
       "      <td>PORTABLE OXYGEN</td>\n",
       "      <td>A320FAM</td>\n",
       "      <td>LIMPIO</td>\n",
       "      <td>-</td>\n",
       "    </tr>\n",
       "    <tr>\n",
       "      <th>1</th>\n",
       "      <td>PT-MZZ</td>\n",
       "      <td>no</td>\n",
       "      <td>19</td>\n",
       "      <td>PILOT</td>\n",
       "      <td>MEL C</td>\n",
       "      <td>CABIN</td>\n",
       "      <td>CFCERT</td>\n",
       "      <td>500928-A-037 HORARIO PUSHBACK ACARS INCORRETO ...</td>\n",
       "      <td>HORARIO PUSHBACK ACARS INCORRETO + 5MINUTOS</td>\n",
       "      <td>T00F8Y94</td>\n",
       "      <td>COMPLETE</td>\n",
       "      <td>FLN</td>\n",
       "      <td>46</td>\n",
       "      <td>AIR TRAFFIC INFORMATION MANAGMENT SYSTEM (A.T....</td>\n",
       "      <td>A320FAM</td>\n",
       "      <td>LIMPIO</td>\n",
       "      <td>FAULT</td>\n",
       "    </tr>\n",
       "    <tr>\n",
       "      <th>2</th>\n",
       "      <td>PT-MXL</td>\n",
       "      <td>no</td>\n",
       "      <td>6</td>\n",
       "      <td>PILOT</td>\n",
       "      <td>MEL C</td>\n",
       "      <td>MAINT</td>\n",
       "      <td>CFCERT</td>\n",
       "      <td>500995-A-029 MAINTENANCE TEMP  CTL 1 AND 2</td>\n",
       "      <td>MAINTENANCE TEMP  CTL 1 AND 2  \\r\\nPERFORMED B...</td>\n",
       "      <td>T00F93J0</td>\n",
       "      <td>COMPLETE</td>\n",
       "      <td>BSB</td>\n",
       "      <td>21</td>\n",
       "      <td>PACK TEMPERATURE CONTROL</td>\n",
       "      <td>A320FAM</td>\n",
       "      <td>LIMPIO</td>\n",
       "      <td>FAULT</td>\n",
       "    </tr>\n",
       "    <tr>\n",
       "      <th>3</th>\n",
       "      <td>PR-MBO</td>\n",
       "      <td>yes</td>\n",
       "      <td>13</td>\n",
       "      <td>PILOT</td>\n",
       "      <td>MEL C</td>\n",
       "      <td>NaN</td>\n",
       "      <td>CFCERT</td>\n",
       "      <td>MLB 501345-A-004 NAV  TAIL LIGHT 1 INOP</td>\n",
       "      <td>NAV  TAIL LIGHT 1 INOP</td>\n",
       "      <td>T00F9E5G</td>\n",
       "      <td>COMPLETE</td>\n",
       "      <td>GIG</td>\n",
       "      <td>33</td>\n",
       "      <td>NAVIGATION LIGHTS</td>\n",
       "      <td>A320FAM</td>\n",
       "      <td>LIMPIO</td>\n",
       "      <td>REPEATED</td>\n",
       "    </tr>\n",
       "    <tr>\n",
       "      <th>4</th>\n",
       "      <td>PR-MBZ</td>\n",
       "      <td>no</td>\n",
       "      <td>18</td>\n",
       "      <td>PILOT</td>\n",
       "      <td>MEL C</td>\n",
       "      <td>MAINT</td>\n",
       "      <td>CFCERT</td>\n",
       "      <td>AIR APU BLEED FAULT STUKED IN OPEN POSITION ON...</td>\n",
       "      <td>AIR APU BLEED FAULT STUKED IN OPEN POSITION ON...</td>\n",
       "      <td>T00F9KH4</td>\n",
       "      <td>COMPLETE</td>\n",
       "      <td>GRU</td>\n",
       "      <td>49</td>\n",
       "      <td>BLEED AND SURGE AIR</td>\n",
       "      <td>A320FAM</td>\n",
       "      <td>LIMPIO</td>\n",
       "      <td>REPEATED</td>\n",
       "    </tr>\n",
       "  </tbody>\n",
       "</table>\n",
       "</div>"
      ],
      "text/plain": [
       "  aircraft_tail check_c_in_lst_yr  aircraft_years fault_source deferral_class  \\\n",
       "0        PR-MBW                no              11        CABIN          MEL C   \n",
       "1        PT-MZZ                no              19        PILOT          MEL C   \n",
       "2        PT-MXL                no               6        PILOT          MEL C   \n",
       "3        PR-MBO               yes              13        PILOT          MEL C   \n",
       "4        PR-MBZ                no              18        PILOT          MEL C   \n",
       "\n",
       "  logbook_type event_status  \\\n",
       "0        MAINT       CFCERT   \n",
       "1        CABIN       CFCERT   \n",
       "2        MAINT       CFCERT   \n",
       "3          NaN       CFCERT   \n",
       "4        MAINT       CFCERT   \n",
       "\n",
       "                                          fault_name  \\\n",
       "0  501173-B-047 REF ITEM RTC BA 652698 - UTILIZAD...   \n",
       "1  500928-A-037 HORARIO PUSHBACK ACARS INCORRETO ...   \n",
       "2         500995-A-029 MAINTENANCE TEMP  CTL 1 AND 2   \n",
       "3            MLB 501345-A-004 NAV  TAIL LIGHT 1 INOP   \n",
       "4  AIR APU BLEED FAULT STUKED IN OPEN POSITION ON...   \n",
       "\n",
       "                                         description   barcode task_status  \\\n",
       "0  501173-B-047 REF ITEM RTC BA 652698 - UTILIZAD...  T00F8Y6K    COMPLETE   \n",
       "1        HORARIO PUSHBACK ACARS INCORRETO + 5MINUTOS  T00F8Y94    COMPLETE   \n",
       "2  MAINTENANCE TEMP  CTL 1 AND 2  \\r\\nPERFORMED B...  T00F93J0    COMPLETE   \n",
       "3                             NAV  TAIL LIGHT 1 INOP  T00F9E5G    COMPLETE   \n",
       "4  AIR APU BLEED FAULT STUKED IN OPEN POSITION ON...  T00F9KH4    COMPLETE   \n",
       "\n",
       "  flight_arrival_airport  ata_2d  \\\n",
       "0                    CNF      35   \n",
       "1                    FLN      46   \n",
       "2                    BSB      21   \n",
       "3                    GIG      33   \n",
       "4                    GRU      49   \n",
       "\n",
       "                                    config_slot_name    fleet condicion_mapi  \\\n",
       "0                                    PORTABLE OXYGEN  A320FAM         LIMPIO   \n",
       "1  AIR TRAFFIC INFORMATION MANAGMENT SYSTEM (A.T....  A320FAM         LIMPIO   \n",
       "2                           PACK TEMPERATURE CONTROL  A320FAM         LIMPIO   \n",
       "3                                  NAVIGATION LIGHTS  A320FAM         LIMPIO   \n",
       "4                                BLEED AND SURGE AIR  A320FAM         LIMPIO   \n",
       "\n",
       "  fault_count  \n",
       "0           -  \n",
       "1       FAULT  \n",
       "2       FAULT  \n",
       "3    REPEATED  \n",
       "4    REPEATED  "
      ]
     },
     "execution_count": 93,
     "metadata": {},
     "output_type": "execute_result"
    }
   ],
   "source": [
    "df=df.drop(['aircraft_msn','deferral_reference','event_type','found_during_flight','aircraft_assembly','ata_4d','ata_6d','config_slot_details','maintenance_airline_code','maintenance_airline_code_group','fleet_type','fleet_holding','type','type_latam','moc'],axis=1)\n",
    "\n",
    "df.head()"
   ]
  },
  {
   "cell_type": "markdown",
   "metadata": {},
   "source": [
    "# Here we are going to the aircraft with the most open faults in 2019"
   ]
  },
  {
   "cell_type": "code",
   "execution_count": 64,
   "metadata": {},
   "outputs": [
    {
     "data": {
      "text/plain": [
       "aircraft_tail\n",
       "PR-MAG    126\n",
       "PR-MAK    157\n",
       "PR-MAL     98\n",
       "PR-MAM    129\n",
       "PR-MAN    139\n",
       "         ... \n",
       "PT-XPL    105\n",
       "PT-XPM    106\n",
       "PT-XPN     84\n",
       "PT-XPO     86\n",
       "PT-XPQ     79\n",
       "Name: barcode, Length: 161, dtype: int64"
      ]
     },
     "execution_count": 64,
     "metadata": {},
     "output_type": "execute_result"
    }
   ],
   "source": [
    "dff = df.groupby(['aircraft_tail']).count()['barcode']\n",
    "dff"
   ]
  },
  {
   "cell_type": "code",
   "execution_count": 77,
   "metadata": {},
   "outputs": [
    {
     "data": {
      "text/html": [
       "<div>\n",
       "<style scoped>\n",
       "    .dataframe tbody tr th:only-of-type {\n",
       "        vertical-align: middle;\n",
       "    }\n",
       "\n",
       "    .dataframe tbody tr th {\n",
       "        vertical-align: top;\n",
       "    }\n",
       "\n",
       "    .dataframe thead th {\n",
       "        text-align: right;\n",
       "    }\n",
       "</style>\n",
       "<table border=\"1\" class=\"dataframe\">\n",
       "  <thead>\n",
       "    <tr style=\"text-align: right;\">\n",
       "      <th></th>\n",
       "      <th>aircraft_tail</th>\n",
       "      <th>count</th>\n",
       "      <th>acft_age</th>\n",
       "    </tr>\n",
       "  </thead>\n",
       "  <tbody>\n",
       "    <tr>\n",
       "      <th>130</th>\n",
       "      <td>PT-MZJ</td>\n",
       "      <td>1</td>\n",
       "      <td>20</td>\n",
       "    </tr>\n",
       "    <tr>\n",
       "      <th>129</th>\n",
       "      <td>PT-MZI</td>\n",
       "      <td>107</td>\n",
       "      <td>20</td>\n",
       "    </tr>\n",
       "    <tr>\n",
       "      <th>128</th>\n",
       "      <td>PT-MZH</td>\n",
       "      <td>121</td>\n",
       "      <td>20</td>\n",
       "    </tr>\n",
       "    <tr>\n",
       "      <th>127</th>\n",
       "      <td>PT-MZG</td>\n",
       "      <td>154</td>\n",
       "      <td>20</td>\n",
       "    </tr>\n",
       "    <tr>\n",
       "      <th>136</th>\n",
       "      <td>PT-MZZ</td>\n",
       "      <td>137</td>\n",
       "      <td>19</td>\n",
       "    </tr>\n",
       "    <tr>\n",
       "      <th>...</th>\n",
       "      <td>...</td>\n",
       "      <td>...</td>\n",
       "      <td>...</td>\n",
       "    </tr>\n",
       "    <tr>\n",
       "      <th>71</th>\n",
       "      <td>PR-TYT</td>\n",
       "      <td>21</td>\n",
       "      <td>0</td>\n",
       "    </tr>\n",
       "    <tr>\n",
       "      <th>73</th>\n",
       "      <td>PR-TYV</td>\n",
       "      <td>2</td>\n",
       "      <td>0</td>\n",
       "    </tr>\n",
       "    <tr>\n",
       "      <th>72</th>\n",
       "      <td>PR-TYU</td>\n",
       "      <td>4</td>\n",
       "      <td>0</td>\n",
       "    </tr>\n",
       "    <tr>\n",
       "      <th>70</th>\n",
       "      <td>PR-TYS</td>\n",
       "      <td>20</td>\n",
       "      <td>0</td>\n",
       "    </tr>\n",
       "    <tr>\n",
       "      <th>87</th>\n",
       "      <td>PR-XTM</td>\n",
       "      <td>4</td>\n",
       "      <td>0</td>\n",
       "    </tr>\n",
       "  </tbody>\n",
       "</table>\n",
       "<p>161 rows × 3 columns</p>\n",
       "</div>"
      ],
      "text/plain": [
       "    aircraft_tail  count  acft_age\n",
       "130        PT-MZJ      1        20\n",
       "129        PT-MZI    107        20\n",
       "128        PT-MZH    121        20\n",
       "127        PT-MZG    154        20\n",
       "136        PT-MZZ    137        19\n",
       "..            ...    ...       ...\n",
       "71         PR-TYT     21         0\n",
       "73         PR-TYV      2         0\n",
       "72         PR-TYU      4         0\n",
       "70         PR-TYS     20         0\n",
       "87         PR-XTM      4         0\n",
       "\n",
       "[161 rows x 3 columns]"
      ]
     },
     "execution_count": 77,
     "metadata": {},
     "output_type": "execute_result"
    }
   ],
   "source": [
    "dff = df.groupby('aircraft_tail') \\\n",
    "       .agg({'barcode':'count', 'aircraft_years':'mean'}) \\\n",
    "       .rename(columns={'barcode':'count','aircraft_years':'acft_age'}) \\\n",
    "       .reset_index()\n",
    "dfs = dff.sort_values('acft_age', ascending = False)\n",
    "dfs"
   ]
  },
  {
   "cell_type": "code",
   "execution_count": 78,
   "metadata": {},
   "outputs": [
    {
     "data": {
      "text/plain": [
       "Text(0.5, 1.0, 'Aircraft Age in Years')"
      ]
     },
     "execution_count": 78,
     "metadata": {},
     "output_type": "execute_result"
    },
    {
     "data": {
      "image/png": "[encoded data removed]",
      "text/plain": [
       "<Figure size 432x288 with 1 Axes>"
      ]
     },
     "metadata": {
      "needs_background": "light"
     },
     "output_type": "display_data"
    }
   ],
   "source": [
    "dfs[:20].plot(kind='bar', x='aircraft_tail')\n",
    "plt.title('Aircraft Age in Years')"
   ]
  },
  {
   "cell_type": "code",
   "execution_count": 31,
   "metadata": {},
   "outputs": [
    {
     "data": {
      "text/plain": [
       "array([[<matplotlib.axes._subplots.AxesSubplot object at 0x0000023EAA7A8AC0>,\n",
       "        <matplotlib.axes._subplots.AxesSubplot object at 0x0000023EAA7D3F70>],\n",
       "       [<matplotlib.axes._subplots.AxesSubplot object at 0x0000023EAA80A430>,\n",
       "        <matplotlib.axes._subplots.AxesSubplot object at 0x0000023EAA836880>],\n",
       "       [<matplotlib.axes._subplots.AxesSubplot object at 0x0000023EAA8644F0>,\n",
       "        <matplotlib.axes._subplots.AxesSubplot object at 0x0000023EAA890880>]],\n",
       "      dtype=object)"
      ]
     },
     "execution_count": 31,
     "metadata": {},
     "output_type": "execute_result"
    },
    {
     "data": {
      "image/png": "[encoded data removed]",
      "text/plain": [
       "<Figure size 432x288 with 6 Axes>"
      ]
     },
     "metadata": {
      "needs_background": "light"
     },
     "output_type": "display_data"
    }
   ],
   "source": [
    "df.hist()"
   ]
  },
  {
   "cell_type": "code",
   "execution_count": 32,
   "metadata": {},
   "outputs": [
    {
     "data": {
      "image/png": "[encoded data removed]",
      "text/plain": [
       "<Figure size 432x288 with 2 Axes>"
      ]
     },
     "metadata": {
      "needs_background": "light"
     },
     "output_type": "display_data"
    }
   ],
   "source": [
    "sns.heatmap(df.corr(), annot=True, fmt=\".2f\");"
   ]
  },
  {
   "cell_type": "code",
   "execution_count": 55,
   "metadata": {},
   "outputs": [
    {
     "data": {
      "text/plain": [
       "Index(['aircraft_tail', 'aircraft_years', 'aircraft_msn', 'fault_source',\n",
       "       'deferral_reference', 'deferral_class', 'logbook_type', 'event_type',\n",
       "       'event_status', 'fault_name', 'description', 'barcode', 'task_status',\n",
       "       'found_during_flight', 'flight_arrival_airport', 'aircraft_assembly',\n",
       "       'ata_2d', 'ata_4d', 'ata_6d', 'config_slot_name', 'config_slot_details',\n",
       "       'moc', 'maintenance_airline_code', 'maintenance_airline_code_group',\n",
       "       'fleet', 'fleet_type', 'fleet_holding', 'condicion_mapi', 'type',\n",
       "       'type_latam', 'fault_count'],\n",
       "      dtype='object')"
      ]
     },
     "execution_count": 55,
     "metadata": {},
     "output_type": "execute_result"
    }
   ],
   "source": [
    "df.columns"
   ]
  },
  {
   "cell_type": "code",
   "execution_count": null,
   "metadata": {},
   "outputs": [],
   "source": []
  }
 ],
 "metadata": {
  "kernelspec": {
   "display_name": "Python 3",
   "language": "python",
   "name": "python3"
  },
  "language_info": {
   "codemirror_mode": {
    "name": "ipython",
    "version": 3
   },
   "file_extension": ".py",
   "mimetype": "text/x-python",
   "name": "python",
   "nbconvert_exporter": "python",
   "pygments_lexer": "ipython3",
   "version": "3.8.3"
  }
 },
 "nbformat": 4,
 "nbformat_minor": 4
}
